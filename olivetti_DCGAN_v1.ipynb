{
  "nbformat": 4,
  "nbformat_minor": 0,
  "metadata": {
    "colab": {
      "provenance": [],
      "authorship_tag": "ABX9TyOn96VJk3PwjBh2XSzkZtzM",
      "include_colab_link": true
    },
    "kernelspec": {
      "name": "python3",
      "display_name": "Python 3"
    },
    "language_info": {
      "name": "python"
    }
  },
  "cells": [
    {
      "cell_type": "markdown",
      "metadata": {
        "id": "view-in-github",
        "colab_type": "text"
      },
      "source": [
        "<a href=\"https://colab.research.google.com/github/ancientpi3/Chess-Python/blob/main/olivetti_DCGAN_v1.ipynb\" target=\"_parent\"><img src=\"https://colab.research.google.com/assets/colab-badge.svg\" alt=\"Open In Colab\"/></a>"
      ]
    },
    {
      "cell_type": "code",
      "execution_count": 5,
      "metadata": {
        "id": "ZRavaIxdPgLA"
      },
      "outputs": [],
      "source": [
        "import tensorflow as tf\n",
        "from tensorflow import keras\n",
        "import matplotlib.pyplot as plt\n",
        "import cv2\n",
        "import numpy as np\n",
        "from google.colab import drive\n",
        "from google.colab import files\n",
        "from zipfile import ZipFile\n",
        "from keras import layers\n",
        "import cv2\n",
        "import os"
      ]
    },
    {
      "cell_type": "code",
      "source": [
        "drive.mount('/content/gdrive')\n",
        "filename = \"/content/gdrive/MyDrive/olivetti_faces.npy.zip\"\n",
        "\n",
        "with ZipFile(filename, \"r\",) as zip:\n",
        "  zip.extractall(path=\"/content/face_data\")"
      ],
      "metadata": {
        "colab": {
          "base_uri": "https://localhost:8080/"
        },
        "id": "2cJToufnRdPN",
        "outputId": "f1f92a9b-a35a-4b26-976c-12b25790e351"
      },
      "execution_count": 2,
      "outputs": [
        {
          "output_type": "stream",
          "name": "stdout",
          "text": [
            "Mounted at /content/gdrive\n"
          ]
        }
      ]
    },
    {
      "cell_type": "code",
      "source": [
        "x_train = np.load(\"/content/face_data/olivetti_faces.npy\")"
      ],
      "metadata": {
        "id": "aFduqtIfRfoD"
      },
      "execution_count": 3,
      "outputs": []
    },
    {
      "cell_type": "code",
      "source": [
        "latent_dim = 400"
      ],
      "metadata": {
        "id": "9iFTz2rQRkHk"
      },
      "execution_count": 56,
      "outputs": []
    },
    {
      "cell_type": "code",
      "source": [
        "#Strided convolutions\n",
        "#leaky_relu activation\n",
        "#Batch normalization layers\n",
        "#No hidden dense layers\n",
        "\n",
        "def discriminator():\n",
        "  discriminator_input = keras.Input(shape=(64,64,1),name=\"d_input\")\n",
        "  x = keras.layers.Conv2D(128,(3,3),strides = (2,2),padding = \"same\", activation=\"leaky_relu\")(discriminator_input)\n",
        "  x = keras.layers.BatchNormalization()(x)\n",
        "  x = keras.layers.Conv2D(128,(3,3),strides = (2,2),padding = \"same\", activation=\"leaky_relu\")(x)\n",
        "  x = keras.layers.BatchNormalization()(x)\n",
        "  x = keras.layers.Conv2D(128,(3,3),strides = (2,2),padding = \"same\", activation=\"leaky_relu\")(x)\n",
        "  x = keras.layers.BatchNormalization()(x)\n",
        "  x = keras.layers.Dropout(rate=.3)(x)\n",
        "  x = keras.layers.Flatten()(x)\n",
        "  discriminator_output = keras.layers.Dense(1)(x)\n",
        "  model = keras.Model(discriminator_input, discriminator_output,name=\"discriminator\")\n",
        "  opt = keras.optimizers.Adam(lr=0.0002, beta_1=0.5)\n",
        "  model.compile(loss='binary_crossentropy', optimizer=opt, metrics=['accuracy'])\n",
        "  return model"
      ],
      "metadata": {
        "id": "QZ6h-8wXRhUj"
      },
      "execution_count": 36,
      "outputs": []
    },
    {
      "cell_type": "code",
      "source": [
        "#Tanh activation in final layer\n",
        "#Batch normalization layers\n",
        "\n",
        "def generator(latent_dim=latent_dim):\n",
        "  generator_input = keras.Input(shape=(latent_dim),name=\"g_input\")\n",
        "  n_nodes = 8*8*128\n",
        "  x = keras.layers.Dense(n_nodes)(generator_input)\n",
        "  x = keras.layers.BatchNormalization()(x)\n",
        "  x = keras.layers.Reshape((8,8,128))(x)\n",
        "  x = keras.layers.Dropout(rate=.3)(x)\n",
        "  x = keras.layers.Conv2DTranspose(128,(3,3),strides=(1,1),padding='same',activation=\"relu\")(x)\n",
        "  x = keras.layers.BatchNormalization()(x)\n",
        "  x = keras.layers.Dropout(rate=.3)(x)\n",
        "  x = keras.layers.Conv2DTranspose(128,(3,3),strides=(2,2),padding='same',activation=\"relu\")(x)\n",
        "  x = keras.layers.BatchNormalization()(x)\n",
        "  x = keras.layers.Dropout(rate=.3)(x)\n",
        "  x = keras.layers.Conv2DTranspose(128,(3,3),strides=(2,2),padding='same',activation=\"relu\")(x)\n",
        "  x = keras.layers.BatchNormalization()(x)\n",
        "  x = keras.layers.Dropout(rate=.3)(x)\n",
        "  x = keras.layers.Conv2DTranspose(128,(3,3),strides=(2,2),padding='same',activation=\"relu\")(x)\n",
        "  generator_output = keras.layers.Conv2D(1,(7,7),padding=\"same\",activation=\"tanh\")(x)\n",
        "  return keras.Model(generator_input, generator_output,name=\"generator\")"
      ],
      "metadata": {
        "id": "CcmRZ6MTXm3m"
      },
      "execution_count": 57,
      "outputs": []
    },
    {
      "cell_type": "code",
      "source": [
        "d_model = discriminator()\n",
        "d_model.summary()"
      ],
      "metadata": {
        "colab": {
          "base_uri": "https://localhost:8080/"
        },
        "id": "uwghAyjQXngh",
        "outputId": "30655668-9a6f-4deb-b7fb-6a6d77233fa7"
      },
      "execution_count": 58,
      "outputs": [
        {
          "output_type": "stream",
          "name": "stdout",
          "text": [
            "Model: \"discriminator\"\n",
            "_________________________________________________________________\n",
            " Layer (type)                Output Shape              Param #   \n",
            "=================================================================\n",
            " d_input (InputLayer)        [(None, 64, 64, 1)]       0         \n",
            "                                                                 \n",
            " conv2d_50 (Conv2D)          (None, 32, 32, 128)       1280      \n",
            "                                                                 \n",
            " batch_normalization_46 (Bat  (None, 32, 32, 128)      512       \n",
            " chNormalization)                                                \n",
            "                                                                 \n",
            " conv2d_51 (Conv2D)          (None, 16, 16, 128)       147584    \n",
            "                                                                 \n",
            " batch_normalization_47 (Bat  (None, 16, 16, 128)      512       \n",
            " chNormalization)                                                \n",
            "                                                                 \n",
            " conv2d_52 (Conv2D)          (None, 8, 8, 128)         147584    \n",
            "                                                                 \n",
            " batch_normalization_48 (Bat  (None, 8, 8, 128)        512       \n",
            " chNormalization)                                                \n",
            "                                                                 \n",
            " dropout_60 (Dropout)        (None, 8, 8, 128)         0         \n",
            "                                                                 \n",
            " flatten_13 (Flatten)        (None, 8192)              0         \n",
            "                                                                 \n",
            " dense_35 (Dense)            (None, 1)                 8193      \n",
            "                                                                 \n",
            "=================================================================\n",
            "Total params: 306,177\n",
            "Trainable params: 305,409\n",
            "Non-trainable params: 768\n",
            "_________________________________________________________________\n"
          ]
        }
      ]
    },
    {
      "cell_type": "code",
      "source": [
        "g_model = generator()\n",
        "g_model.summary()"
      ],
      "metadata": {
        "colab": {
          "base_uri": "https://localhost:8080/"
        },
        "id": "DfCXmKFTXqfc",
        "outputId": "200de63f-915f-4959-d74f-36d40291865f"
      },
      "execution_count": 55,
      "outputs": [
        {
          "output_type": "stream",
          "name": "stdout",
          "text": [
            "Model: \"generator\"\n",
            "_________________________________________________________________\n",
            " Layer (type)                Output Shape              Param #   \n",
            "=================================================================\n",
            " g_input (InputLayer)        [(None, 300)]             0         \n",
            "                                                                 \n",
            " dense_34 (Dense)            (None, 8192)              2465792   \n",
            "                                                                 \n",
            " batch_normalization_42 (Bat  (None, 8192)             32768     \n",
            " chNormalization)                                                \n",
            "                                                                 \n",
            " reshape_11 (Reshape)        (None, 8, 8, 128)         0         \n",
            "                                                                 \n",
            " dropout_56 (Dropout)        (None, 8, 8, 128)         0         \n",
            "                                                                 \n",
            " conv2d_transpose_36 (Conv2D  (None, 8, 8, 128)        147584    \n",
            " Transpose)                                                      \n",
            "                                                                 \n",
            " batch_normalization_43 (Bat  (None, 8, 8, 128)        512       \n",
            " chNormalization)                                                \n",
            "                                                                 \n",
            " dropout_57 (Dropout)        (None, 8, 8, 128)         0         \n",
            "                                                                 \n",
            " conv2d_transpose_37 (Conv2D  (None, 16, 16, 128)      147584    \n",
            " Transpose)                                                      \n",
            "                                                                 \n",
            " batch_normalization_44 (Bat  (None, 16, 16, 128)      512       \n",
            " chNormalization)                                                \n",
            "                                                                 \n",
            " dropout_58 (Dropout)        (None, 16, 16, 128)       0         \n",
            "                                                                 \n",
            " conv2d_transpose_38 (Conv2D  (None, 32, 32, 128)      147584    \n",
            " Transpose)                                                      \n",
            "                                                                 \n",
            " batch_normalization_45 (Bat  (None, 32, 32, 128)      512       \n",
            " chNormalization)                                                \n",
            "                                                                 \n",
            " dropout_59 (Dropout)        (None, 32, 32, 128)       0         \n",
            "                                                                 \n",
            " conv2d_transpose_39 (Conv2D  (None, 64, 64, 128)      147584    \n",
            " Transpose)                                                      \n",
            "                                                                 \n",
            " conv2d_49 (Conv2D)          (None, 64, 64, 1)         6273      \n",
            "                                                                 \n",
            "=================================================================\n",
            "Total params: 3,096,705\n",
            "Trainable params: 3,079,553\n",
            "Non-trainable params: 17,152\n",
            "_________________________________________________________________\n"
          ]
        }
      ]
    },
    {
      "cell_type": "code",
      "source": [
        "def GAN(d_model,g_model):\n",
        "\td_model.trainable = False\n",
        "\tmodel = keras.models.Sequential()\n",
        "\tmodel.add(g_model)\n",
        "\tmodel.add(d_model)\n",
        "\topt = keras.optimizers.Adam(lr=0.0002, beta_1=0.5)\n",
        "\tmodel.compile(loss='binary_crossentropy', optimizer=opt)\n",
        "\treturn model"
      ],
      "metadata": {
        "id": "kLjKKtIMXsJv"
      },
      "execution_count": null,
      "outputs": []
    },
    {
      "cell_type": "code",
      "source": [
        "GAN_model = GAN(d_model,g_model)\n",
        "GAN_model.summary()"
      ],
      "metadata": {
        "id": "nvyG4_5fXuJI"
      },
      "execution_count": null,
      "outputs": []
    },
    {
      "cell_type": "code",
      "source": [
        "def grab_real_batch(x_train, batch_size):\n",
        "\tix = np.random.randint(0, x_train.shape[0], batch_size)\n",
        "\tX = x_train[ix]\n",
        "\t#y = np.ones((batch_size, 1))\n",
        "\treturn X"
      ],
      "metadata": {
        "id": "AWwqIJO9XvQa"
      },
      "execution_count": null,
      "outputs": []
    },
    {
      "cell_type": "code",
      "source": [
        "def grab_fake_batch(g_model,batch_size, latent_dim=latent_dim):\n",
        "  latent_points = np.random.randn(latent_dim*batch_size).reshape(batch_size,latent_dim)\n",
        "  predictions = g_model.predict(latent_points,verbose=0)\n",
        "  return predictions"
      ],
      "metadata": {
        "id": "rccaRrOmXwPz"
      },
      "execution_count": null,
      "outputs": []
    },
    {
      "cell_type": "code",
      "source": [
        "def save_plot(examples, epoch, n=5):\n",
        "\tfor i in range(25):\n",
        "\t\tplt.subplot(n, n, 1 + i)\n",
        "\t\tplt.axis('off')\n",
        "\t\tplt.imshow(examples[i, :, :, 0], cmap='gray')\n",
        "\tfilename = 'generated_plot_e%03d.png' % (epoch+1)\n",
        "\tplt.show()\n",
        "\tplt.savefig(filename)\n",
        "\tplt.close()"
      ],
      "metadata": {
        "id": "ctr2PbfMXxfe"
      },
      "execution_count": null,
      "outputs": []
    },
    {
      "cell_type": "code",
      "source": [
        "def train(d_model,g_model,gan_model, x_train, epochs=100, verbose=1):\n",
        "  latent_dim = g_model.input.shape[1]\n",
        "  batch_size = 32\n",
        "  batches_per_epoch = 50\n",
        "  save_plot(grab_fake_batch(g_model,50).reshape(50,64,64,1),epoch=0)\n",
        "  for epoch in range(epochs):\n",
        "    print(\"Epoch: \",epoch)\n",
        "    for _ in range(batches_per_epoch):\n",
        "      d_model.trainable = True\n",
        "      #print(\"training discriminator on real batch\")\n",
        "      real_batch = grab_real_batch(x_train, batch_size)\n",
        "      d_model.fit(x=real_batch, y = np.ones(batch_size),verbose=verbose)\n",
        "      #print(\"training discriminator on fake batch\")\n",
        "      fake_batch = grab_fake_batch(g_model, batch_size)\n",
        "      d_model.fit(x=fake_batch, y = np.zeros(batch_size),verbose=verbose)\n",
        "\n",
        "      d_model.trainable = False\n",
        "      #print(\"training GAN on fake batch with real label to measure how well G fools D\")\n",
        "      latent_points = np.random.randn(latent_dim*batch_size).reshape(batch_size,latent_dim)\n",
        "      gan_model.fit(x=latent_points, y=np.ones(batch_size),verbose=verbose)\n",
        "    if(epoch%20==19):\n",
        "      save_plot(grab_fake_batch(g_model,50).reshape(50,64,64,1),epoch=epoch)"
      ],
      "metadata": {
        "id": "_WWTJjtyXy5n"
      },
      "execution_count": null,
      "outputs": []
    },
    {
      "cell_type": "code",
      "source": [
        "save_plot(grab_real_batch(x_train,40).reshape(40,64,64,1),epoch=-1)"
      ],
      "metadata": {
        "id": "pDsIXL4BXzWE"
      },
      "execution_count": null,
      "outputs": []
    },
    {
      "cell_type": "code",
      "source": [],
      "metadata": {
        "id": "TGVPViYLX1iQ"
      },
      "execution_count": null,
      "outputs": []
    }
  ]
}